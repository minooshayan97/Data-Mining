{
 "cells": [
  {
   "cell_type": "code",
   "execution_count": 1,
   "metadata": {},
   "outputs": [],
   "source": [
    "import numpy as np \n",
    "import pandas as pd\n",
    "from sklearn.linear_model import LinearRegression\n",
    "import matplotlib.pyplot as plt\n",
    "import seaborn as sns\n",
    "import statsmodels.formula.api as smf\n",
    "from sklearn import metrics"
   ]
  },
  {
   "cell_type": "code",
   "execution_count": 2,
   "metadata": {},
   "outputs": [
    {
     "data": {
      "text/html": [
       "<div>\n",
       "<style scoped>\n",
       "    .dataframe tbody tr th:only-of-type {\n",
       "        vertical-align: middle;\n",
       "    }\n",
       "\n",
       "    .dataframe tbody tr th {\n",
       "        vertical-align: top;\n",
       "    }\n",
       "\n",
       "    .dataframe thead th {\n",
       "        text-align: right;\n",
       "    }\n",
       "</style>\n",
       "<table border=\"1\" class=\"dataframe\">\n",
       "  <thead>\n",
       "    <tr style=\"text-align: right;\">\n",
       "      <th></th>\n",
       "      <th>CountryName</th>\n",
       "      <th>CountryCode</th>\n",
       "      <th>Population growth</th>\n",
       "      <th>Total population</th>\n",
       "      <th>Area (sq. km)</th>\n",
       "      <th>Coronavirus Cases</th>\n",
       "      <th>A</th>\n",
       "      <th>B</th>\n",
       "      <th>C</th>\n",
       "    </tr>\n",
       "  </thead>\n",
       "  <tbody>\n",
       "    <tr>\n",
       "      <th>0</th>\n",
       "      <td>Brazil</td>\n",
       "      <td>BRA</td>\n",
       "      <td>-0.178534</td>\n",
       "      <td>0.190525</td>\n",
       "      <td>3.487321</td>\n",
       "      <td>59324</td>\n",
       "      <td>0.0</td>\n",
       "      <td>1.0</td>\n",
       "      <td>0.0</td>\n",
       "    </tr>\n",
       "    <tr>\n",
       "      <th>1</th>\n",
       "      <td>Switzerland</td>\n",
       "      <td>CHE</td>\n",
       "      <td>0.049736</td>\n",
       "      <td>-0.430016</td>\n",
       "      <td>-0.518329</td>\n",
       "      <td>29061</td>\n",
       "      <td>0.0</td>\n",
       "      <td>1.0</td>\n",
       "      <td>0.0</td>\n",
       "    </tr>\n",
       "    <tr>\n",
       "      <th>2</th>\n",
       "      <td>Germany</td>\n",
       "      <td>DEU</td>\n",
       "      <td>0.152279</td>\n",
       "      <td>-0.198667</td>\n",
       "      <td>-0.369352</td>\n",
       "      <td>156727</td>\n",
       "      <td>1.0</td>\n",
       "      <td>0.0</td>\n",
       "      <td>0.0</td>\n",
       "    </tr>\n",
       "    <tr>\n",
       "      <th>3</th>\n",
       "      <td>Denmark</td>\n",
       "      <td>DNK</td>\n",
       "      <td>-0.163517</td>\n",
       "      <td>-0.440522</td>\n",
       "      <td>-0.517006</td>\n",
       "      <td>8575</td>\n",
       "      <td>0.0</td>\n",
       "      <td>1.0</td>\n",
       "      <td>0.0</td>\n",
       "    </tr>\n",
       "    <tr>\n",
       "      <th>4</th>\n",
       "      <td>Spain</td>\n",
       "      <td>ESP</td>\n",
       "      <td>-0.904317</td>\n",
       "      <td>-0.311464</td>\n",
       "      <td>-0.296492</td>\n",
       "      <td>223759</td>\n",
       "      <td>1.0</td>\n",
       "      <td>0.0</td>\n",
       "      <td>0.0</td>\n",
       "    </tr>\n",
       "    <tr>\n",
       "      <th>5</th>\n",
       "      <td>France</td>\n",
       "      <td>FRA</td>\n",
       "      <td>-0.539019</td>\n",
       "      <td>-0.247778</td>\n",
       "      <td>-0.273693</td>\n",
       "      <td>161488</td>\n",
       "      <td>1.0</td>\n",
       "      <td>0.0</td>\n",
       "      <td>0.0</td>\n",
       "    </tr>\n",
       "    <tr>\n",
       "      <th>6</th>\n",
       "      <td>Japan</td>\n",
       "      <td>JPN</td>\n",
       "      <td>-0.998588</td>\n",
       "      <td>-0.060637</td>\n",
       "      <td>-0.361811</td>\n",
       "      <td>13231</td>\n",
       "      <td>0.0</td>\n",
       "      <td>1.0</td>\n",
       "      <td>0.0</td>\n",
       "    </tr>\n",
       "    <tr>\n",
       "      <th>7</th>\n",
       "      <td>Greece</td>\n",
       "      <td>GRC</td>\n",
       "      <td>-1.501657</td>\n",
       "      <td>-0.422622</td>\n",
       "      <td>-0.475288</td>\n",
       "      <td>2506</td>\n",
       "      <td>0.0</td>\n",
       "      <td>0.0</td>\n",
       "      <td>1.0</td>\n",
       "    </tr>\n",
       "    <tr>\n",
       "      <th>8</th>\n",
       "      <td>Iran</td>\n",
       "      <td>IRN</td>\n",
       "      <td>0.112651</td>\n",
       "      <td>-0.206110</td>\n",
       "      <td>0.246937</td>\n",
       "      <td>90481</td>\n",
       "      <td>0.0</td>\n",
       "      <td>0.0</td>\n",
       "      <td>0.0</td>\n",
       "    </tr>\n",
       "    <tr>\n",
       "      <th>9</th>\n",
       "      <td>Kuwait</td>\n",
       "      <td>KWT</td>\n",
       "      <td>1.673410</td>\n",
       "      <td>-0.443467</td>\n",
       "      <td>-0.522367</td>\n",
       "      <td>3075</td>\n",
       "      <td>0.0</td>\n",
       "      <td>0.0</td>\n",
       "      <td>1.0</td>\n",
       "    </tr>\n",
       "    <tr>\n",
       "      <th>10</th>\n",
       "      <td>Morocco</td>\n",
       "      <td>MAR</td>\n",
       "      <td>-0.856497</td>\n",
       "      <td>-0.346237</td>\n",
       "      <td>-0.322451</td>\n",
       "      <td>4047</td>\n",
       "      <td>0.0</td>\n",
       "      <td>0.0</td>\n",
       "      <td>1.0</td>\n",
       "    </tr>\n",
       "    <tr>\n",
       "      <th>11</th>\n",
       "      <td>Nigeria</td>\n",
       "      <td>NGA</td>\n",
       "      <td>1.405134</td>\n",
       "      <td>0.123068</td>\n",
       "      <td>-0.098796</td>\n",
       "      <td>1182</td>\n",
       "      <td>0.0</td>\n",
       "      <td>0.0</td>\n",
       "      <td>0.0</td>\n",
       "    </tr>\n",
       "    <tr>\n",
       "      <th>12</th>\n",
       "      <td>Qatar</td>\n",
       "      <td>QAT</td>\n",
       "      <td>2.175253</td>\n",
       "      <td>-0.448084</td>\n",
       "      <td>-0.531766</td>\n",
       "      <td>10287</td>\n",
       "      <td>0.0</td>\n",
       "      <td>1.0</td>\n",
       "      <td>0.0</td>\n",
       "    </tr>\n",
       "    <tr>\n",
       "      <th>13</th>\n",
       "      <td>Sweden</td>\n",
       "      <td>SWE</td>\n",
       "      <td>-0.538479</td>\n",
       "      <td>-0.425249</td>\n",
       "      <td>-0.341226</td>\n",
       "      <td>18640</td>\n",
       "      <td>0.0</td>\n",
       "      <td>0.0</td>\n",
       "      <td>1.0</td>\n",
       "    </tr>\n",
       "    <tr>\n",
       "      <th>14</th>\n",
       "      <td>India</td>\n",
       "      <td>IND</td>\n",
       "      <td>0.112146</td>\n",
       "      <td>3.667258</td>\n",
       "      <td>0.894317</td>\n",
       "      <td>26917</td>\n",
       "      <td>0.0</td>\n",
       "      <td>1.0</td>\n",
       "      <td>0.0</td>\n",
       "    </tr>\n",
       "  </tbody>\n",
       "</table>\n",
       "</div>"
      ],
      "text/plain": [
       "    CountryName CountryCode  Population growth  Total population  \\\n",
       "0        Brazil         BRA          -0.178534          0.190525   \n",
       "1   Switzerland         CHE           0.049736         -0.430016   \n",
       "2       Germany         DEU           0.152279         -0.198667   \n",
       "3       Denmark         DNK          -0.163517         -0.440522   \n",
       "4         Spain         ESP          -0.904317         -0.311464   \n",
       "5        France         FRA          -0.539019         -0.247778   \n",
       "6         Japan         JPN          -0.998588         -0.060637   \n",
       "7        Greece         GRC          -1.501657         -0.422622   \n",
       "8          Iran         IRN           0.112651         -0.206110   \n",
       "9        Kuwait         KWT           1.673410         -0.443467   \n",
       "10      Morocco         MAR          -0.856497         -0.346237   \n",
       "11      Nigeria         NGA           1.405134          0.123068   \n",
       "12        Qatar         QAT           2.175253         -0.448084   \n",
       "13       Sweden         SWE          -0.538479         -0.425249   \n",
       "14        India         IND           0.112146          3.667258   \n",
       "\n",
       "    Area (sq. km)  Coronavirus Cases    A    B    C  \n",
       "0        3.487321              59324  0.0  1.0  0.0  \n",
       "1       -0.518329              29061  0.0  1.0  0.0  \n",
       "2       -0.369352             156727  1.0  0.0  0.0  \n",
       "3       -0.517006               8575  0.0  1.0  0.0  \n",
       "4       -0.296492             223759  1.0  0.0  0.0  \n",
       "5       -0.273693             161488  1.0  0.0  0.0  \n",
       "6       -0.361811              13231  0.0  1.0  0.0  \n",
       "7       -0.475288               2506  0.0  0.0  1.0  \n",
       "8        0.246937              90481  0.0  0.0  0.0  \n",
       "9       -0.522367               3075  0.0  0.0  1.0  \n",
       "10      -0.322451               4047  0.0  0.0  1.0  \n",
       "11      -0.098796               1182  0.0  0.0  0.0  \n",
       "12      -0.531766              10287  0.0  1.0  0.0  \n",
       "13      -0.341226              18640  0.0  0.0  1.0  \n",
       "14       0.894317              26917  0.0  1.0  0.0  "
      ]
     },
     "execution_count": 2,
     "metadata": {},
     "output_type": "execute_result"
    }
   ],
   "source": [
    "df=pd.read_csv('OUT 1-4 data(outlier_passed).csv')\n",
    "df"
   ]
  },
  {
   "cell_type": "code",
   "execution_count": 3,
   "metadata": {},
   "outputs": [
    {
     "data": {
      "text/plain": [
       "LinearRegression(copy_X=True, fit_intercept=True, n_jobs=None, normalize=False)"
      ]
     },
     "execution_count": 3,
     "metadata": {},
     "output_type": "execute_result"
    }
   ],
   "source": [
    "x = df[['Population growth','Total population','Area (sq. km)','A','B','C']]\n",
    "y = df['Coronavirus Cases']\n",
    "lrm=LinearRegression()\n",
    "lrm.fit(x,y)"
   ]
  },
  {
   "cell_type": "code",
   "execution_count": 4,
   "metadata": {},
   "outputs": [
    {
     "data": {
      "text/plain": [
       "50366.943584889945"
      ]
     },
     "execution_count": 4,
     "metadata": {},
     "output_type": "execute_result"
    }
   ],
   "source": [
    "lrm.intercept_"
   ]
  },
  {
   "cell_type": "code",
   "execution_count": 5,
   "metadata": {},
   "outputs": [
    {
     "data": {
      "text/plain": [
       "array([ -7295.63005727,  -2979.0597853 ,  11846.31753502, 130108.75822464,\n",
       "       -28201.44862654, -41830.43417202])"
      ]
     },
     "execution_count": 5,
     "metadata": {},
     "output_type": "execute_result"
    }
   ],
   "source": [
    "lrm.coef_"
   ]
  },
  {
   "cell_type": "code",
   "execution_count": 6,
   "metadata": {},
   "outputs": [
    {
     "data": {
      "text/plain": [
       "<matplotlib.collections.PathCollection at 0x1d9142e96d0>"
      ]
     },
     "execution_count": 6,
     "metadata": {},
     "output_type": "execute_result"
    },
    {
     "data": {
      "image/png": "[encoded data removed]",
      "text/plain": [
       "<Figure size 432x288 with 1 Axes>"
      ]
     },
     "metadata": {
      "needs_background": "light"
     },
     "output_type": "display_data"
    }
   ],
   "source": [
    "prediction = lrm.predict(x)\n",
    "plt.scatter(y,prediction)"
   ]
  },
  {
   "cell_type": "code",
   "execution_count": null,
   "metadata": {},
   "outputs": [],
   "source": []
  },
  {
   "cell_type": "code",
   "execution_count": 7,
   "metadata": {},
   "outputs": [
    {
     "data": {
      "text/plain": [
       "405381115.26471084"
      ]
     },
     "execution_count": 7,
     "metadata": {},
     "output_type": "execute_result"
    }
   ],
   "source": [
    "MSE = metrics.mean_squared_error(y,prediction)\n",
    "MSE"
   ]
  },
  {
   "cell_type": "code",
   "execution_count": 8,
   "metadata": {},
   "outputs": [
    {
     "data": {
      "text/plain": [
       "20134.078455809962"
      ]
     },
     "execution_count": 8,
     "metadata": {},
     "output_type": "execute_result"
    }
   ],
   "source": [
    "RMSE = np.sqrt(MSE)\n",
    "RMSE"
   ]
  },
  {
   "cell_type": "code",
   "execution_count": 9,
   "metadata": {},
   "outputs": [],
   "source": [
    "result = smf.ols(formula='Q(\"Coronavirus Cases\") ~\\\n",
    "                Q(\"Population growth\")+\\\n",
    "                Q(\"Total population\")+\\\n",
    "                Q(\"Area (sq. km)\")+\\\n",
    "                Q(\"A\")+\\\n",
    "                Q(\"B\")+\\\n",
    "                Q(\"C\")',data=df).fit()"
   ]
  },
  {
   "cell_type": "code",
   "execution_count": 10,
   "metadata": {},
   "outputs": [
    {
     "data": {
      "text/plain": [
       "Intercept                  50366.943585\n",
       "Q(\"Population growth\")     -7295.630057\n",
       "Q(\"Total population\")      -2979.059785\n",
       "Q(\"Area (sq. km)\")         11846.317535\n",
       "Q(\"A\")                    130108.758225\n",
       "Q(\"B\")                    -28201.448627\n",
       "Q(\"C\")                    -41830.434172\n",
       "dtype: float64"
      ]
     },
     "execution_count": 10,
     "metadata": {},
     "output_type": "execute_result"
    }
   ],
   "source": [
    "result.params"
   ]
  },
  {
   "cell_type": "code",
   "execution_count": 11,
   "metadata": {},
   "outputs": [
    {
     "name": "stderr",
     "output_type": "stream",
     "text": [
      "c:\\users\\mini\\appdata\\local\\programs\\python\\python38\\lib\\site-packages\\scipy\\stats\\stats.py:1534: UserWarning: kurtosistest only valid for n>=20 ... continuing anyway, n=15\n",
      "  warnings.warn(\"kurtosistest only valid for n>=20 ... continuing \"\n"
     ]
    },
    {
     "data": {
      "text/html": [
       "<table class=\"simpletable\">\n",
       "<caption>OLS Regression Results</caption>\n",
       "<tr>\n",
       "  <th>Dep. Variable:</th>    <td>Q(\"Coronavirus Cases\")</td> <th>  R-squared:         </th> <td>   0.914</td>\n",
       "</tr>\n",
       "<tr>\n",
       "  <th>Model:</th>                      <td>OLS</td>          <th>  Adj. R-squared:    </th> <td>   0.850</td>\n",
       "</tr>\n",
       "<tr>\n",
       "  <th>Method:</th>                <td>Least Squares</td>     <th>  F-statistic:       </th> <td>   14.25</td>\n",
       "</tr>\n",
       "<tr>\n",
       "  <th>Date:</th>                <td>Wed, 27 May 2020</td>    <th>  Prob (F-statistic):</th> <td>0.000698</td>\n",
       "</tr>\n",
       "<tr>\n",
       "  <th>Time:</th>                    <td>15:05:03</td>        <th>  Log-Likelihood:    </th> <td> -169.94</td>\n",
       "</tr>\n",
       "<tr>\n",
       "  <th>No. Observations:</th>         <td>    15</td>         <th>  AIC:               </th> <td>   353.9</td>\n",
       "</tr>\n",
       "<tr>\n",
       "  <th>Df Residuals:</th>             <td>     8</td>         <th>  BIC:               </th> <td>   358.8</td>\n",
       "</tr>\n",
       "<tr>\n",
       "  <th>Df Model:</th>                 <td>     6</td>         <th>                     </th>     <td> </td>   \n",
       "</tr>\n",
       "<tr>\n",
       "  <th>Covariance Type:</th>         <td>nonrobust</td>       <th>                     </th>     <td> </td>   \n",
       "</tr>\n",
       "</table>\n",
       "<table class=\"simpletable\">\n",
       "<tr>\n",
       "             <td></td>               <th>coef</th>     <th>std err</th>      <th>t</th>      <th>P>|t|</th>  <th>[0.025</th>    <th>0.975]</th>  \n",
       "</tr>\n",
       "<tr>\n",
       "  <th>Intercept</th>              <td> 5.037e+04</td> <td> 2.04e+04</td> <td>    2.466</td> <td> 0.039</td> <td> 3276.929</td> <td> 9.75e+04</td>\n",
       "</tr>\n",
       "<tr>\n",
       "  <th>Q(\"Population growth\")</th> <td>-7295.6301</td> <td> 7829.727</td> <td>   -0.932</td> <td> 0.379</td> <td>-2.54e+04</td> <td> 1.08e+04</td>\n",
       "</tr>\n",
       "<tr>\n",
       "  <th>Q(\"Total population\")</th>  <td>-2979.0598</td> <td> 7919.727</td> <td>   -0.376</td> <td> 0.717</td> <td>-2.12e+04</td> <td> 1.53e+04</td>\n",
       "</tr>\n",
       "<tr>\n",
       "  <th>Q(\"Area (sq. km)\")</th>     <td> 1.185e+04</td> <td> 8053.118</td> <td>    1.471</td> <td> 0.179</td> <td>-6724.207</td> <td> 3.04e+04</td>\n",
       "</tr>\n",
       "<tr>\n",
       "  <th>Q(\"A\")</th>                 <td> 1.301e+05</td> <td> 2.72e+04</td> <td>    4.785</td> <td> 0.001</td> <td> 6.74e+04</td> <td> 1.93e+05</td>\n",
       "</tr>\n",
       "<tr>\n",
       "  <th>Q(\"B\")</th>                 <td> -2.82e+04</td> <td> 2.32e+04</td> <td>   -1.215</td> <td> 0.259</td> <td>-8.17e+04</td> <td> 2.53e+04</td>\n",
       "</tr>\n",
       "<tr>\n",
       "  <th>Q(\"C\")</th>                 <td>-4.183e+04</td> <td> 2.58e+04</td> <td>   -1.618</td> <td> 0.144</td> <td>-1.01e+05</td> <td> 1.78e+04</td>\n",
       "</tr>\n",
       "</table>\n",
       "<table class=\"simpletable\">\n",
       "<tr>\n",
       "  <th>Omnibus:</th>       <td> 0.671</td> <th>  Durbin-Watson:     </th> <td>   2.295</td>\n",
       "</tr>\n",
       "<tr>\n",
       "  <th>Prob(Omnibus):</th> <td> 0.715</td> <th>  Jarque-Bera (JB):  </th> <td>   0.386</td>\n",
       "</tr>\n",
       "<tr>\n",
       "  <th>Skew:</th>          <td> 0.367</td> <th>  Prob(JB):          </th> <td>   0.825</td>\n",
       "</tr>\n",
       "<tr>\n",
       "  <th>Kurtosis:</th>      <td> 2.720</td> <th>  Cond. No.          </th> <td>    7.38</td>\n",
       "</tr>\n",
       "</table><br/><br/>Warnings:<br/>[1] Standard Errors assume that the covariance matrix of the errors is correctly specified."
      ],
      "text/plain": [
       "<class 'statsmodels.iolib.summary.Summary'>\n",
       "\"\"\"\n",
       "                              OLS Regression Results                              \n",
       "==================================================================================\n",
       "Dep. Variable:     Q(\"Coronavirus Cases\")   R-squared:                       0.914\n",
       "Model:                                OLS   Adj. R-squared:                  0.850\n",
       "Method:                     Least Squares   F-statistic:                     14.25\n",
       "Date:                    Wed, 27 May 2020   Prob (F-statistic):           0.000698\n",
       "Time:                            15:05:03   Log-Likelihood:                -169.94\n",
       "No. Observations:                      15   AIC:                             353.9\n",
       "Df Residuals:                           8   BIC:                             358.8\n",
       "Df Model:                               6                                         \n",
       "Covariance Type:                nonrobust                                         \n",
       "==========================================================================================\n",
       "                             coef    std err          t      P>|t|      [0.025      0.975]\n",
       "------------------------------------------------------------------------------------------\n",
       "Intercept               5.037e+04   2.04e+04      2.466      0.039    3276.929    9.75e+04\n",
       "Q(\"Population growth\") -7295.6301   7829.727     -0.932      0.379   -2.54e+04    1.08e+04\n",
       "Q(\"Total population\")  -2979.0598   7919.727     -0.376      0.717   -2.12e+04    1.53e+04\n",
       "Q(\"Area (sq. km)\")      1.185e+04   8053.118      1.471      0.179   -6724.207    3.04e+04\n",
       "Q(\"A\")                  1.301e+05   2.72e+04      4.785      0.001    6.74e+04    1.93e+05\n",
       "Q(\"B\")                  -2.82e+04   2.32e+04     -1.215      0.259   -8.17e+04    2.53e+04\n",
       "Q(\"C\")                 -4.183e+04   2.58e+04     -1.618      0.144   -1.01e+05    1.78e+04\n",
       "==============================================================================\n",
       "Omnibus:                        0.671   Durbin-Watson:                   2.295\n",
       "Prob(Omnibus):                  0.715   Jarque-Bera (JB):                0.386\n",
       "Skew:                           0.367   Prob(JB):                        0.825\n",
       "Kurtosis:                       2.720   Cond. No.                         7.38\n",
       "==============================================================================\n",
       "\n",
       "Warnings:\n",
       "[1] Standard Errors assume that the covariance matrix of the errors is correctly specified.\n",
       "\"\"\""
      ]
     },
     "execution_count": 11,
     "metadata": {},
     "output_type": "execute_result"
    }
   ],
   "source": [
    "result.summary()"
   ]
  },
  {
   "cell_type": "code",
   "execution_count": null,
   "metadata": {},
   "outputs": [],
   "source": []
  },
  {
   "cell_type": "code",
   "execution_count": null,
   "metadata": {},
   "outputs": [],
   "source": []
  },
  {
   "cell_type": "code",
   "execution_count": null,
   "metadata": {},
   "outputs": [],
   "source": []
  }
 ],
 "metadata": {
  "kernelspec": {
   "display_name": "Python 3",
   "language": "python",
   "name": "python3"
  },
  "language_info": {
   "codemirror_mode": {
    "name": "ipython",
    "version": 3
   },
   "file_extension": ".py",
   "mimetype": "text/x-python",
   "name": "python",
   "nbconvert_exporter": "python",
   "pygments_lexer": "ipython3",
   "version": "3.8.2"
  }
 },
 "nbformat": 4,
 "nbformat_minor": 4
}
